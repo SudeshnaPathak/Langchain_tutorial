{
 "cells": [
  {
   "cell_type": "code",
   "execution_count": 1,
   "metadata": {},
   "outputs": [],
   "source": [
    "from langchain.agents import load_tools\n",
    "from langchain.agents import initialize_agent\n",
    "from langchain.agents import AgentType\n",
    "from langchain.llms import OpenAI\n",
    "from dotenv import load_dotenv"
   ]
  },
  {
   "cell_type": "code",
   "execution_count": 2,
   "metadata": {},
   "outputs": [],
   "source": [
    "import os\n",
    "load_dotenv()\n",
    "os.environ['OPENAI_API_KEY'] = os.getenv(\"OPENAI_API_KEY\")\n",
    "os.environ['SERPAPI_API_KEY'] = os.getenv(\"SERPAPI_API_KEY\")\n",
    "os.environ[\"LANGCHAIN_TRACING_V2\"]=\"true\"\n",
    "os.environ[\"LANGCHAIN_API_KEY\"] = os.getenv(\"LANGCHAIN_API_KEY\")\n"
   ]
  },
  {
   "cell_type": "code",
   "execution_count": 3,
   "metadata": {},
   "outputs": [
    {
     "name": "stdout",
     "output_type": "stream",
     "text": [
      "Requirement already satisfied: google-search-results in c:\\users\\sudeshna pathak\\appdata\\local\\programs\\python\\python310\\lib\\site-packages (2.4.2)\n",
      "Requirement already satisfied: requests in c:\\users\\sudeshna pathak\\appdata\\local\\programs\\python\\python310\\lib\\site-packages (from google-search-results) (2.32.3)\n",
      "Requirement already satisfied: charset-normalizer<4,>=2 in c:\\users\\sudeshna pathak\\appdata\\local\\programs\\python\\python310\\lib\\site-packages (from requests->google-search-results) (3.3.2)\n",
      "Requirement already satisfied: certifi>=2017.4.17 in c:\\users\\sudeshna pathak\\appdata\\local\\programs\\python\\python310\\lib\\site-packages (from requests->google-search-results) (2024.7.4)\n",
      "Requirement already satisfied: urllib3<3,>=1.21.1 in c:\\users\\sudeshna pathak\\appdata\\local\\programs\\python\\python310\\lib\\site-packages (from requests->google-search-results) (2.2.2)\n",
      "Requirement already satisfied: idna<4,>=2.5 in c:\\users\\sudeshna pathak\\appdata\\local\\programs\\python\\python310\\lib\\site-packages (from requests->google-search-results) (3.7)\n",
      "Note: you may need to restart the kernel to use updated packages.\n"
     ]
    },
    {
     "name": "stderr",
     "output_type": "stream",
     "text": [
      "\n",
      "[notice] A new release of pip is available: 23.0.1 -> 25.0.1\n",
      "[notice] To update, run: python.exe -m pip install --upgrade pip\n"
     ]
    }
   ],
   "source": [
    "%pip install google-search-results"
   ]
  },
  {
   "cell_type": "code",
   "execution_count": 4,
   "metadata": {},
   "outputs": [
    {
     "name": "stdout",
     "output_type": "stream",
     "text": [
      "Requirement already satisfied: numexpr in c:\\users\\sudeshna pathak\\appdata\\local\\programs\\python\\python310\\lib\\site-packages (2.10.2)\n",
      "Requirement already satisfied: numpy>=1.23.0 in c:\\users\\sudeshna pathak\\appdata\\local\\programs\\python\\python310\\lib\\site-packages (from numexpr) (1.26.4)\n",
      "Note: you may need to restart the kernel to use updated packages.\n"
     ]
    },
    {
     "name": "stderr",
     "output_type": "stream",
     "text": [
      "\n",
      "[notice] A new release of pip is available: 23.0.1 -> 25.0.1\n",
      "[notice] To update, run: python.exe -m pip install --upgrade pip\n"
     ]
    }
   ],
   "source": [
    "%pip install numexpr"
   ]
  },
  {
   "cell_type": "code",
   "execution_count": 5,
   "metadata": {},
   "outputs": [
    {
     "name": "stderr",
     "output_type": "stream",
     "text": [
      "c:\\Users\\Sudeshna Pathak\\AppData\\Local\\Programs\\Python\\Python310\\lib\\site-packages\\langchain_core\\_api\\deprecation.py:141: LangChainDeprecationWarning: The class `OpenAI` was deprecated in LangChain 0.0.10 and will be removed in 0.3.0. An updated version of the class exists in the langchain-openai package and should be used instead. To use it run `pip install -U langchain-openai` and import as `from langchain_openai import OpenAI`.\n",
      "  warn_deprecated(\n",
      "c:\\Users\\Sudeshna Pathak\\AppData\\Local\\Programs\\Python\\Python310\\lib\\site-packages\\langchain_core\\_api\\deprecation.py:141: LangChainDeprecationWarning: The function `initialize_agent` was deprecated in LangChain 0.1.0 and will be removed in 1.0. Use Use new agent constructor methods like create_react_agent, create_json_agent, create_structured_chat_agent, etc. instead.\n",
      "  warn_deprecated(\n"
     ]
    }
   ],
   "source": [
    "llm = OpenAI(temperature=0)\n",
    "tools = load_tools([\"serpapi\", \"llm-math\"], llm=llm)\n",
    "# tools = [\"serpapi\", \"llm-math\"]\n",
    "agent = initialize_agent(tools, llm, agent=AgentType.ZERO_SHOT_REACT_DESCRIPTION , verbose = True )\n"
   ]
  },
  {
   "cell_type": "code",
   "execution_count": 5,
   "metadata": {},
   "outputs": [
    {
     "name": "stderr",
     "output_type": "stream",
     "text": [
      "c:\\Users\\Sudeshna Pathak\\AppData\\Local\\Programs\\Python\\Python310\\lib\\site-packages\\langchain_core\\_api\\deprecation.py:141: LangChainDeprecationWarning: The class `OpenAI` was deprecated in LangChain 0.0.10 and will be removed in 0.3.0. An updated version of the class exists in the langchain-openai package and should be used instead. To use it run `pip install -U langchain-openai` and import as `from langchain_openai import OpenAI`.\n",
      "  warn_deprecated(\n",
      "c:\\Users\\Sudeshna Pathak\\AppData\\Local\\Programs\\Python\\Python310\\lib\\site-packages\\langchain_core\\_api\\deprecation.py:141: LangChainDeprecationWarning: The function `initialize_agent` was deprecated in LangChain 0.1.0 and will be removed in 1.0. Use Use new agent constructor methods like create_react_agent, create_json_agent, create_structured_chat_agent, etc. instead.\n",
      "  warn_deprecated(\n"
     ]
    }
   ],
   "source": [
    "llm = OpenAI(temperature=0)\n",
    "tools = load_tools([\"serpapi\"], llm=llm)\n",
    "# tools = [\"serpapi\", \"llm-math\"]\n",
    "agent = initialize_agent(tools, llm, agent=AgentType.ZERO_SHOT_REACT_DESCRIPTION , verbose = True )\n"
   ]
  },
  {
   "cell_type": "code",
   "execution_count": 6,
   "metadata": {},
   "outputs": [
    {
     "name": "stderr",
     "output_type": "stream",
     "text": [
      "c:\\Users\\Sudeshna Pathak\\AppData\\Local\\Programs\\Python\\Python310\\lib\\site-packages\\langchain_core\\_api\\deprecation.py:141: LangChainDeprecationWarning: The method `Chain.run` was deprecated in langchain 0.1.0 and will be removed in 1.0. Use invoke instead.\n",
      "  warn_deprecated(\n"
     ]
    },
    {
     "name": "stdout",
     "output_type": "stream",
     "text": [
      "\n",
      "\n",
      "\u001b[1m> Entering new AgentExecutor chain...\u001b[0m\n",
      "\u001b[32;1m\u001b[1;3m You should always think about what to do\n",
      "Action: Search\n",
      "Action Input: \"Nick Heidfeld slowest lap time Formula 1\"\u001b[0m\n",
      "Observation: \u001b[36;1m\u001b[1;3m['Heidfeld departed Formula One with one pole position, two fastest laps and 13 ... Heidfeld was ranked the 23rd best Formula One driver of all time.', 'With a time of 8:34 ge was 20 seconds slower than any GT car of the time ... 07! r/formula1 - My drawing of Nick Heidfeld in his BMW Sauber F1.07.', 'Career stats for Nick Heidfeld ; Podiums, 13, 68 ; Fastest laps, 2, 78.', \"Road & Track magazine reported Heidfeld's lap was a 5:57 or 5:58 (for the Nordschleife only), breaking the track's six-minute barrier for the ...\", \"Try as he might, though, he just couldn't win a race, Heidfeld finishing on the podium 13 times – eight times in P2 – and even securing a pole ...\", 'During his F1 career, Heidfeld amassed 13 podium finishes from 183 starts, but failed to win a race, a statistic which leaves the German as the second-most- ...', \"German Nick Heidfeld said his Jordan team were just too slow after finishing in 15th position at today's British Grand Prix.\", 'Nick Heidfeld drives around Nurburgring Nordschleife in his BMW Sauber F1.06. If the lap was completed he would surely beat the track ...', 'With Heidfeld notching up a fastest lap of 8mins 34secs and a top speed of 275 km/h, BMW Motorsport Director Mario Theissen admits it was ...', '2009 Driver Standings: Nick Heidfeld ; Great Britain. 21 Jun 2009. Sauber BMW. 15. 0 ; Germany. 12 Jul 2009. Sauber BMW. 10. 0.']\u001b[0m\n",
      "Thought:\u001b[32;1m\u001b[1;3m I now know the final answer\n",
      "Final Answer: Nick Heidfeld can improve his slowest lap time in Formula 1 by analyzing his previous lap times, studying the track and car conditions, and making adjustments to his driving technique and car setup. He can also seek advice from his team and other experienced drivers.\u001b[0m\n",
      "\n",
      "\u001b[1m> Finished chain.\u001b[0m\n"
     ]
    },
    {
     "data": {
      "text/plain": [
       "'Nick Heidfeld can improve his slowest lap time in Formula 1 by analyzing his previous lap times, studying the track and car conditions, and making adjustments to his driving technique and car setup. He can also seek advice from his team and other experienced drivers.'"
      ]
     },
     "execution_count": 6,
     "metadata": {},
     "output_type": "execute_result"
    }
   ],
   "source": [
    "agent.run(\"How can Nick Heidfeld improve his slowest lap time in Formula 1?\")"
   ]
  },
  {
   "cell_type": "code",
   "execution_count": 6,
   "metadata": {},
   "outputs": [
    {
     "name": "stderr",
     "output_type": "stream",
     "text": [
      "c:\\Users\\Sudeshna Pathak\\AppData\\Local\\Programs\\Python\\Python310\\lib\\site-packages\\langchain_core\\_api\\deprecation.py:141: LangChainDeprecationWarning: The method `Chain.run` was deprecated in langchain 0.1.0 and will be removed in 1.0. Use invoke instead.\n",
      "  warn_deprecated(\n"
     ]
    },
    {
     "name": "stdout",
     "output_type": "stream",
     "text": [
      "\n",
      "\n",
      "\u001b[1m> Entering new AgentExecutor chain...\u001b[0m\n",
      "\u001b[32;1m\u001b[1;3m I should use the search engine to find information about Leo DiCaprio's girlfriend.\n",
      "Action: Search\n",
      "Action Input: \"Leo DiCaprio girlfriend\"\u001b[0m\n",
      "Observation: \u001b[36;1m\u001b[1;3m['In August 2023, Leonardo DiCaprio was seen with Italian model Vittoria Ceretti, despite rumors of a potential relationship with model Gigi ...', \"Who Is Vittoria Ceretti, Leonardo DiCaprio's Girlfriend? · She's an Italian model. · She was married. · She started dating Leo in 2023. · She ...\", 'Leonardo DiCaprio and Vittoria Ceretti are spending the last days of 2024 on a tropical getaway in St. Barts.', 'Leonardo DiCaprio and Vittoria Ceretti are still going strong. The Hollywood star and the model have had a close relationship since first ...', \"This includes Leonardo DiCaprio's girlfriend in 2024, model Vittoria Ceretti, who is about 23 years younger than him.\", 'There were rumors of an affair between Blake and Ryan the year before she dated Leo when they were filming Green Lantern in 2010. Ryan and ...']\u001b[0m\n",
      "Thought:\u001b[32;1m\u001b[1;3m Now I should use the calculator to raise her current age to the 0.43 power.\n",
      "Action: Calculator\n",
      "Action Input: 23 ** 0.43\u001b[0m\n",
      "Observation: \u001b[33;1m\u001b[1;3mAnswer: 3.8507291225496925\u001b[0m\n",
      "Thought:\u001b[32;1m\u001b[1;3m I now know the final answer.\n",
      "Final Answer: 3.8507291225496925\u001b[0m\n",
      "\n",
      "\u001b[1m> Finished chain.\u001b[0m\n"
     ]
    },
    {
     "data": {
      "text/plain": [
       "'3.8507291225496925'"
      ]
     },
     "execution_count": 6,
     "metadata": {},
     "output_type": "execute_result"
    }
   ],
   "source": [
    "agent.run(\"Who is Leo DiCaprio's girlfriend? What is her current age raised to the 0.43 power?\")\n"
   ]
  },
  {
   "cell_type": "markdown",
   "metadata": {},
   "source": [
    "## SQL DATABASE INTEGRATION"
   ]
  },
  {
   "cell_type": "code",
   "execution_count": 7,
   "metadata": {},
   "outputs": [],
   "source": [
    "import os\n",
    "from langchain.agents import create_sql_agent\n",
    "from langchain.agents.agent_toolkits import SQLDatabaseToolkit\n",
    "from langchain.llms import OpenAI\n",
    "from langchain.sql_database import SQLDatabase\n",
    "from langchain.agents import AgentExecutor"
   ]
  },
  {
   "cell_type": "code",
   "execution_count": 8,
   "metadata": {},
   "outputs": [
    {
     "name": "stdout",
     "output_type": "stream",
     "text": [
      "Requirement already satisfied: pymysql in c:\\users\\administrator\\appdata\\local\\programs\\python\\python310\\lib\\site-packages (1.1.1)\n",
      "Note: you may need to restart the kernel to use updated packages.\n"
     ]
    }
   ],
   "source": [
    "%pip install pymysql"
   ]
  },
  {
   "cell_type": "code",
   "execution_count": 10,
   "metadata": {},
   "outputs": [],
   "source": [
    "db_user = \"root\"\n",
    "db_password = \"root\"\n",
    "db_host = \"localhost\"  \n",
    "db_port = \"3306\"  \n",
    "db_name = \"classicmodels\"\n",
    "db = SQLDatabase.from_uri(f\"mysql+pymysql://{db_user}:{db_password}@{db_host}/{db_name}\")"
   ]
  },
  {
   "cell_type": "code",
   "execution_count": 11,
   "metadata": {},
   "outputs": [],
   "source": [
    "from langchain_openai import ChatOpenAI\n",
    "llm = ChatOpenAI(model=\"gpt-3.5-turbo-0125\", temperature=0)\n",
    "# llm = OpenAI(temperature=0)"
   ]
  },
  {
   "cell_type": "code",
   "execution_count": 12,
   "metadata": {},
   "outputs": [],
   "source": [
    "toolkit = SQLDatabaseToolkit(db=db, llm=llm)\n",
    "agent_executor = create_sql_agent(llm, toolkit, verbose=True)\n"
   ]
  },
  {
   "cell_type": "code",
   "execution_count": 13,
   "metadata": {},
   "outputs": [
    {
     "name": "stdout",
     "output_type": "stream",
     "text": [
      "\n",
      "\n",
      "\u001b[1m> Entering new SQL Agent Executor chain...\u001b[0m\n",
      "\u001b[32;1m\u001b[1;3mAction: sql_db_list_tables\n",
      "Action Input: \u001b[0m\u001b[38;5;200m\u001b[1;3mcustomers, employees, offices, orderdetails, orders, payments, productlines, products\u001b[0m\u001b[32;1m\u001b[1;3mI should query the schema of the tables related to orders to understand their structure.\n",
      "Action: sql_db_schema\n",
      "Action Input: orders, orderdetails\u001b[0m\u001b[33;1m\u001b[1;3m\n",
      "CREATE TABLE orderdetails (\n",
      "\t`orderNumber` INTEGER NOT NULL, \n",
      "\t`productCode` VARCHAR(15) NOT NULL, \n",
      "\t`quantityOrdered` INTEGER NOT NULL, \n",
      "\t`priceEach` DECIMAL(10, 2) NOT NULL, \n",
      "\t`orderLineNumber` SMALLINT NOT NULL, \n",
      "\tPRIMARY KEY (`orderNumber`, `productCode`), \n",
      "\tCONSTRAINT orderdetails_ibfk_1 FOREIGN KEY(`orderNumber`) REFERENCES orders (`orderNumber`), \n",
      "\tCONSTRAINT orderdetails_ibfk_2 FOREIGN KEY(`productCode`) REFERENCES products (`productCode`)\n",
      ")DEFAULT CHARSET=utf8mb4 ENGINE=InnoDB COLLATE utf8mb4_0900_ai_ci\n",
      "\n",
      "/*\n",
      "3 rows from orderdetails table:\n",
      "orderNumber\tproductCode\tquantityOrdered\tpriceEach\torderLineNumber\n",
      "10100\tS18_1749\t30\t136.00\t3\n",
      "10100\tS18_2248\t50\t55.09\t2\n",
      "10100\tS18_4409\t22\t75.46\t4\n",
      "*/\n",
      "\n",
      "\n",
      "CREATE TABLE orders (\n",
      "\t`orderNumber` INTEGER NOT NULL, \n",
      "\t`orderDate` DATE NOT NULL, \n",
      "\t`requiredDate` DATE NOT NULL, \n",
      "\t`shippedDate` DATE, \n",
      "\tstatus VARCHAR(15) NOT NULL, \n",
      "\tcomments TEXT, \n",
      "\t`customerNumber` INTEGER NOT NULL, \n",
      "\tPRIMARY KEY (`orderNumber`), \n",
      "\tCONSTRAINT orders_ibfk_1 FOREIGN KEY(`customerNumber`) REFERENCES customers (`customerNumber`)\n",
      ")DEFAULT CHARSET=utf8mb4 ENGINE=InnoDB COLLATE utf8mb4_0900_ai_ci\n",
      "\n",
      "/*\n",
      "3 rows from orders table:\n",
      "orderNumber\torderDate\trequiredDate\tshippedDate\tstatus\tcomments\tcustomerNumber\n",
      "10100\t2003-01-06\t2003-01-13\t2003-01-10\tShipped\tNone\t363\n",
      "10101\t2003-01-09\t2003-01-18\t2003-01-11\tShipped\tCheck on availability.\t128\n",
      "10102\t2003-01-10\t2003-01-18\t2003-01-14\tShipped\tNone\t181\n",
      "*/\u001b[0m\u001b[32;1m\u001b[1;3mBased on the schema and sample rows from the tables, I can see that the `orders` table contains information about each order, such as the order number, order date, required date, shipped date, status, comments, and customer number. The `orderdetails` table contains details about each product in an order, such as the order number, product code, quantity ordered, price each, and order line number. The two tables are related by the `orderNumber` column in both tables.\n",
      "Final Answer: The `orders` table contains information about each order, and the `orderdetails` table contains details about each product in an order. They are related by the `orderNumber` column.\u001b[0m\n",
      "\n",
      "\u001b[1m> Finished chain.\u001b[0m\n"
     ]
    },
    {
     "data": {
      "text/plain": [
       "'The `orders` table contains information about each order, and the `orderdetails` table contains details about each product in an order. They are related by the `orderNumber` column.'"
      ]
     },
     "execution_count": 13,
     "metadata": {},
     "output_type": "execute_result"
    }
   ],
   "source": [
    "agent_executor.run(\"Describe the Order related table and how they are related\")\n"
   ]
  },
  {
   "cell_type": "code",
   "execution_count": 14,
   "metadata": {},
   "outputs": [
    {
     "name": "stdout",
     "output_type": "stream",
     "text": [
      "\n",
      "\n",
      "\u001b[1m> Entering new SQL Agent Executor chain...\u001b[0m\n",
      "\u001b[32;1m\u001b[1;3mAction: sql_db_list_tables\n",
      "Action Input: \u001b[0m\u001b[38;5;200m\u001b[1;3mcustomers, employees, offices, orderdetails, orders, payments, productlines, products\u001b[0m\u001b[32;1m\u001b[1;3mI should query the schema of the PurchaseDetails table to describe it.\n",
      "Action: sql_db_schema\n",
      "Action Input: PurchaseDetails\u001b[0m\u001b[33;1m\u001b[1;3mError: table_names {'PurchaseDetails'} not found in database\u001b[0m\u001b[32;1m\u001b[1;3mI made a mistake in the table name. I should try querying the schema of the correct table.\n",
      "Action: sql_db_schema\n",
      "Action Input: orderdetails\u001b[0m\u001b[33;1m\u001b[1;3m\n",
      "CREATE TABLE orderdetails (\n",
      "\t`orderNumber` INTEGER NOT NULL, \n",
      "\t`productCode` VARCHAR(15) NOT NULL, \n",
      "\t`quantityOrdered` INTEGER NOT NULL, \n",
      "\t`priceEach` DECIMAL(10, 2) NOT NULL, \n",
      "\t`orderLineNumber` SMALLINT NOT NULL, \n",
      "\tPRIMARY KEY (`orderNumber`, `productCode`), \n",
      "\tCONSTRAINT orderdetails_ibfk_1 FOREIGN KEY(`orderNumber`) REFERENCES orders (`orderNumber`), \n",
      "\tCONSTRAINT orderdetails_ibfk_2 FOREIGN KEY(`productCode`) REFERENCES products (`productCode`)\n",
      ")DEFAULT CHARSET=utf8mb4 ENGINE=InnoDB COLLATE utf8mb4_0900_ai_ci\n",
      "\n",
      "/*\n",
      "3 rows from orderdetails table:\n",
      "orderNumber\tproductCode\tquantityOrdered\tpriceEach\torderLineNumber\n",
      "10100\tS18_1749\t30\t136.00\t3\n",
      "10100\tS18_2248\t50\t55.09\t2\n",
      "10100\tS18_4409\t22\t75.46\t4\n",
      "*/\u001b[0m\u001b[32;1m\u001b[1;3mThe PurchaseDetails table is actually named orderdetails. It has columns for orderNumber, productCode, quantityOrdered, priceEach, and orderLineNumber. It also has foreign key constraints referencing the orders and products tables.\n",
      "Final Answer: The PurchaseDetails table, which is actually named orderdetails, contains information about orders such as the order number, product code, quantity ordered, price each, and order line number.\u001b[0m\n",
      "\n",
      "\u001b[1m> Finished chain.\u001b[0m\n"
     ]
    },
    {
     "data": {
      "text/plain": [
       "'The PurchaseDetails table, which is actually named orderdetails, contains information about orders such as the order number, product code, quantity ordered, price each, and order line number.'"
      ]
     },
     "execution_count": 14,
     "metadata": {},
     "output_type": "execute_result"
    }
   ],
   "source": [
    "agent_executor.run(\"Describe the PurchaseDetails table\")\n"
   ]
  },
  {
   "cell_type": "code",
   "execution_count": 15,
   "metadata": {},
   "outputs": [
    {
     "name": "stdout",
     "output_type": "stream",
     "text": [
      "\n",
      "\n",
      "\u001b[1m> Entering new SQL Agent Executor chain...\u001b[0m\n",
      "\u001b[32;1m\u001b[1;3mAction: sql_db_list_tables\n",
      "Action Input: \u001b[0m\u001b[38;5;200m\u001b[1;3mcustomers, employees, offices, orderdetails, orders, payments, productlines, products\u001b[0m\u001b[32;1m\u001b[1;3mI should query the schema of the OrderDetails table to see its structure.\n",
      "Action: sql_db_schema\n",
      "Action Input: OrderDetails\u001b[0m\u001b[33;1m\u001b[1;3mError: table_names {'OrderDetails'} not found in database\u001b[0m\u001b[32;1m\u001b[1;3mI should double check the table name to ensure it is correct.\n",
      "Action: sql_db_schema\n",
      "Action Input: orderdetails\u001b[0m\u001b[33;1m\u001b[1;3m\n",
      "CREATE TABLE orderdetails (\n",
      "\t`orderNumber` INTEGER NOT NULL, \n",
      "\t`productCode` VARCHAR(15) NOT NULL, \n",
      "\t`quantityOrdered` INTEGER NOT NULL, \n",
      "\t`priceEach` DECIMAL(10, 2) NOT NULL, \n",
      "\t`orderLineNumber` SMALLINT NOT NULL, \n",
      "\tPRIMARY KEY (`orderNumber`, `productCode`), \n",
      "\tCONSTRAINT orderdetails_ibfk_1 FOREIGN KEY(`orderNumber`) REFERENCES orders (`orderNumber`), \n",
      "\tCONSTRAINT orderdetails_ibfk_2 FOREIGN KEY(`productCode`) REFERENCES products (`productCode`)\n",
      ")DEFAULT CHARSET=utf8mb4 ENGINE=InnoDB COLLATE utf8mb4_0900_ai_ci\n",
      "\n",
      "/*\n",
      "3 rows from orderdetails table:\n",
      "orderNumber\tproductCode\tquantityOrdered\tpriceEach\torderLineNumber\n",
      "10100\tS18_1749\t30\t136.00\t3\n",
      "10100\tS18_2248\t50\t55.09\t2\n",
      "10100\tS18_4409\t22\t75.46\t4\n",
      "*/\u001b[0m\u001b[32;1m\u001b[1;3mThe OrderDetails table contains columns for orderNumber, productCode, quantityOrdered, priceEach, and orderLineNumber. It also has foreign key constraints referencing the Orders and Products tables. Some sample rows from the table are shown above.\n",
      "Final Answer: The OrderDetails table contains information about the products ordered in each order, including the quantity, price, and order line number.\u001b[0m\n",
      "\n",
      "\u001b[1m> Finished chain.\u001b[0m\n"
     ]
    },
    {
     "data": {
      "text/plain": [
       "'The OrderDetails table contains information about the products ordered in each order, including the quantity, price, and order line number.'"
      ]
     },
     "execution_count": 15,
     "metadata": {},
     "output_type": "execute_result"
    }
   ],
   "source": [
    "agent_executor.run(\"Describe OrderDetails table\")"
   ]
  },
  {
   "cell_type": "code",
   "execution_count": 16,
   "metadata": {},
   "outputs": [
    {
     "name": "stdout",
     "output_type": "stream",
     "text": [
      "\n",
      "\n",
      "\u001b[1m> Entering new SQL Agent Executor chain...\u001b[0m\n",
      "\u001b[32;1m\u001b[1;3mAction: sql_db_list_tables\n",
      "Action Input: \u001b[0m\u001b[38;5;200m\u001b[1;3mcustomers, employees, offices, orderdetails, orders, payments, productlines, products\u001b[0m\u001b[32;1m\u001b[1;3mI should query the schema of the orders, orderdetails, and products tables to find the relevant columns for total sales revenue.\n",
      "Action: sql_db_schema\n",
      "Action Input: orders, orderdetails, products\u001b[0m\u001b[33;1m\u001b[1;3m\n",
      "CREATE TABLE orderdetails (\n",
      "\t`orderNumber` INTEGER NOT NULL, \n",
      "\t`productCode` VARCHAR(15) NOT NULL, \n",
      "\t`quantityOrdered` INTEGER NOT NULL, \n",
      "\t`priceEach` DECIMAL(10, 2) NOT NULL, \n",
      "\t`orderLineNumber` SMALLINT NOT NULL, \n",
      "\tPRIMARY KEY (`orderNumber`, `productCode`), \n",
      "\tCONSTRAINT orderdetails_ibfk_1 FOREIGN KEY(`orderNumber`) REFERENCES orders (`orderNumber`), \n",
      "\tCONSTRAINT orderdetails_ibfk_2 FOREIGN KEY(`productCode`) REFERENCES products (`productCode`)\n",
      ")DEFAULT CHARSET=utf8mb4 ENGINE=InnoDB COLLATE utf8mb4_0900_ai_ci\n",
      "\n",
      "/*\n",
      "3 rows from orderdetails table:\n",
      "orderNumber\tproductCode\tquantityOrdered\tpriceEach\torderLineNumber\n",
      "10100\tS18_1749\t30\t136.00\t3\n",
      "10100\tS18_2248\t50\t55.09\t2\n",
      "10100\tS18_4409\t22\t75.46\t4\n",
      "*/\n",
      "\n",
      "\n",
      "CREATE TABLE orders (\n",
      "\t`orderNumber` INTEGER NOT NULL, \n",
      "\t`orderDate` DATE NOT NULL, \n",
      "\t`requiredDate` DATE NOT NULL, \n",
      "\t`shippedDate` DATE, \n",
      "\tstatus VARCHAR(15) NOT NULL, \n",
      "\tcomments TEXT, \n",
      "\t`customerNumber` INTEGER NOT NULL, \n",
      "\tPRIMARY KEY (`orderNumber`), \n",
      "\tCONSTRAINT orders_ibfk_1 FOREIGN KEY(`customerNumber`) REFERENCES customers (`customerNumber`)\n",
      ")DEFAULT CHARSET=utf8mb4 ENGINE=InnoDB COLLATE utf8mb4_0900_ai_ci\n",
      "\n",
      "/*\n",
      "3 rows from orders table:\n",
      "orderNumber\torderDate\trequiredDate\tshippedDate\tstatus\tcomments\tcustomerNumber\n",
      "10100\t2003-01-06\t2003-01-13\t2003-01-10\tShipped\tNone\t363\n",
      "10101\t2003-01-09\t2003-01-18\t2003-01-11\tShipped\tCheck on availability.\t128\n",
      "10102\t2003-01-10\t2003-01-18\t2003-01-14\tShipped\tNone\t181\n",
      "*/\n",
      "\n",
      "\n",
      "CREATE TABLE products (\n",
      "\t`productCode` VARCHAR(15) NOT NULL, \n",
      "\t`productName` VARCHAR(70) NOT NULL, \n",
      "\t`productLine` VARCHAR(50) NOT NULL, \n",
      "\t`productScale` VARCHAR(10) NOT NULL, \n",
      "\t`productVendor` VARCHAR(50) NOT NULL, \n",
      "\t`productDescription` TEXT NOT NULL, \n",
      "\t`quantityInStock` SMALLINT NOT NULL, \n",
      "\t`buyPrice` DECIMAL(10, 2) NOT NULL, \n",
      "\t`MSRP` DECIMAL(10, 2) NOT NULL, \n",
      "\tPRIMARY KEY (`productCode`), \n",
      "\tCONSTRAINT products_ibfk_1 FOREIGN KEY(`productLine`) REFERENCES productlines (`productLine`)\n",
      ")DEFAULT CHARSET=utf8mb4 ENGINE=InnoDB COLLATE utf8mb4_0900_ai_ci\n",
      "\n",
      "/*\n",
      "3 rows from products table:\n",
      "productCode\tproductName\tproductLine\tproductScale\tproductVendor\tproductDescription\tquantityInStock\tbuyPrice\tMSRP\n",
      "S10_1678\t1969 Harley Davidson Ultimate Chopper\tMotorcycles\t1:10\tMin Lin Diecast\tThis replica features working kickstand, front suspension, gear-shift lever, footbrake lever, drive \t7933\t48.81\t95.70\n",
      "S10_1949\t1952 Alpine Renault 1300\tClassic Cars\t1:10\tClassic Metal Creations\tTurnable front wheels; steering function; detailed interior; detailed engine; opening hood; opening \t7305\t98.58\t214.30\n",
      "S10_2016\t1996 Moto Guzzi 1100i\tMotorcycles\t1:10\tHighway 66 Mini Classics\tOfficial Moto Guzzi logos and insignias, saddle bags located on side of motorcycle, detailed engine,\t6625\t68.99\t118.94\n",
      "*/\u001b[0m\u001b[32;1m\u001b[1;3mI should join the orders, orderdetails, and products tables on the relevant columns to calculate the total sales revenue for each product.\n",
      "Action: sql_db_query\n",
      "Action Input: SELECT p.productCode, p.productName, SUM(od.quantityOrdered * od.priceEach) AS totalRevenue\n",
      "FROM products p\n",
      "JOIN orderdetails od ON p.productCode = od.productCode\n",
      "GROUP BY p.productCode, p.productName\n",
      "ORDER BY totalRevenue DESC\n",
      "LIMIT 5\u001b[0m\u001b[36;1m\u001b[1;3m[('S18_3232', '1992 Ferrari 360 Spider red', Decimal('276839.98')), ('S12_1108', '2001 Ferrari Enzo', Decimal('190755.86')), ('S10_1949', '1952 Alpine Renault 1300', Decimal('190017.96')), ('S10_4698', '2003 Harley-Davidson Eagle Drag Bike', Decimal('170686.00')), ('S12_1099', '1968 Ford Mustang', Decimal('161531.48'))]\u001b[0m\u001b[32;1m\u001b[1;3mI now know the final answer\n",
      "Final Answer: The top 5 products with the highest total sales revenue are:\n",
      "1. Product Code: S18_3232, Product Name: 1992 Ferrari 360 Spider red, Total Revenue: $276,839.98\n",
      "2. Product Code: S12_1108, Product Name: 2001 Ferrari Enzo, Total Revenue: $190,755.86\n",
      "3. Product Code: S10_1949, Product Name: 1952 Alpine Renault 1300, Total Revenue: $190,017.96\n",
      "4. Product Code: S10_4698, Product Name: 2003 Harley-Davidson Eagle Drag Bike, Total Revenue: $170,686.00\n",
      "5. Product Code: S12_1099, Product Name: 1968 Ford Mustang, Total Revenue: $161,531.48\u001b[0m\n",
      "\n",
      "\u001b[1m> Finished chain.\u001b[0m\n"
     ]
    },
    {
     "data": {
      "text/plain": [
       "'The top 5 products with the highest total sales revenue are:\\n1. Product Code: S18_3232, Product Name: 1992 Ferrari 360 Spider red, Total Revenue: $276,839.98\\n2. Product Code: S12_1108, Product Name: 2001 Ferrari Enzo, Total Revenue: $190,755.86\\n3. Product Code: S10_1949, Product Name: 1952 Alpine Renault 1300, Total Revenue: $190,017.96\\n4. Product Code: S10_4698, Product Name: 2003 Harley-Davidson Eagle Drag Bike, Total Revenue: $170,686.00\\n5. Product Code: S12_1099, Product Name: 1968 Ford Mustang, Total Revenue: $161,531.48'"
      ]
     },
     "execution_count": 16,
     "metadata": {},
     "output_type": "execute_result"
    }
   ],
   "source": [
    "agent_executor.run(\"Find the top 5 products with the highest total sales revenue\")\n"
   ]
  },
  {
   "cell_type": "code",
   "execution_count": 17,
   "metadata": {},
   "outputs": [
    {
     "name": "stdout",
     "output_type": "stream",
     "text": [
      "\n",
      "\n",
      "\u001b[1m> Entering new SQL Agent Executor chain...\u001b[0m\n",
      "\u001b[32;1m\u001b[1;3mAction: sql_db_list_tables\n",
      "Action Input: \u001b[0m\u001b[38;5;200m\u001b[1;3mcustomers, employees, offices, orderdetails, orders, payments, productlines, products\u001b[0m\u001b[32;1m\u001b[1;3mI should query the orders table to find the number of orders per country.\n",
      "Action: sql_db_schema\n",
      "Action Input: orders\u001b[0m\u001b[33;1m\u001b[1;3m\n",
      "CREATE TABLE orders (\n",
      "\t`orderNumber` INTEGER NOT NULL, \n",
      "\t`orderDate` DATE NOT NULL, \n",
      "\t`requiredDate` DATE NOT NULL, \n",
      "\t`shippedDate` DATE, \n",
      "\tstatus VARCHAR(15) NOT NULL, \n",
      "\tcomments TEXT, \n",
      "\t`customerNumber` INTEGER NOT NULL, \n",
      "\tPRIMARY KEY (`orderNumber`), \n",
      "\tCONSTRAINT orders_ibfk_1 FOREIGN KEY(`customerNumber`) REFERENCES customers (`customerNumber`)\n",
      ")DEFAULT CHARSET=utf8mb4 ENGINE=InnoDB COLLATE utf8mb4_0900_ai_ci\n",
      "\n",
      "/*\n",
      "3 rows from orders table:\n",
      "orderNumber\torderDate\trequiredDate\tshippedDate\tstatus\tcomments\tcustomerNumber\n",
      "10100\t2003-01-06\t2003-01-13\t2003-01-10\tShipped\tNone\t363\n",
      "10101\t2003-01-09\t2003-01-18\t2003-01-11\tShipped\tCheck on availability.\t128\n",
      "10102\t2003-01-10\t2003-01-18\t2003-01-14\tShipped\tNone\t181\n",
      "*/\u001b[0m\u001b[32;1m\u001b[1;3mI can now query the orders table to find the top 3 countries with the highest number of orders.\n",
      "Action: sql_db_query\n",
      "Action Input: SELECT COUNT(orderNumber) AS num_orders, o.country FROM orders o JOIN customers c ON o.customerNumber = c.customerNumber GROUP BY o.country ORDER BY num_orders DESC LIMIT 3\u001b[0m\u001b[36;1m\u001b[1;3mError: (pymysql.err.OperationalError) (1054, \"Unknown column 'o.country' in 'field list'\")\n",
      "[SQL: SELECT COUNT(orderNumber) AS num_orders, o.country FROM orders o JOIN customers c ON o.customerNumber = c.customerNumber GROUP BY o.country ORDER BY num_orders DESC LIMIT 3]\n",
      "(Background on this error at: https://sqlalche.me/e/20/e3q8)\u001b[0m\u001b[32;1m\u001b[1;3mI need to check the schema of the customers table to see the available columns.\n",
      "Action: sql_db_schema\n",
      "Action Input: customers\u001b[0m\u001b[33;1m\u001b[1;3m\n",
      "CREATE TABLE customers (\n",
      "\t`customerNumber` INTEGER NOT NULL, \n",
      "\t`customerName` VARCHAR(50) NOT NULL, \n",
      "\t`contactLastName` VARCHAR(50) NOT NULL, \n",
      "\t`contactFirstName` VARCHAR(50) NOT NULL, \n",
      "\tphone VARCHAR(50) NOT NULL, \n",
      "\t`addressLine1` VARCHAR(50) NOT NULL, \n",
      "\t`addressLine2` VARCHAR(50), \n",
      "\tcity VARCHAR(50) NOT NULL, \n",
      "\tstate VARCHAR(50), \n",
      "\t`postalCode` VARCHAR(15), \n",
      "\tcountry VARCHAR(50) NOT NULL, \n",
      "\t`salesRepEmployeeNumber` INTEGER, \n",
      "\t`creditLimit` DECIMAL(10, 2), \n",
      "\tPRIMARY KEY (`customerNumber`), \n",
      "\tCONSTRAINT customers_ibfk_1 FOREIGN KEY(`salesRepEmployeeNumber`) REFERENCES employees (`employeeNumber`)\n",
      ")DEFAULT CHARSET=utf8mb4 ENGINE=InnoDB COLLATE utf8mb4_0900_ai_ci\n",
      "\n",
      "/*\n",
      "3 rows from customers table:\n",
      "customerNumber\tcustomerName\tcontactLastName\tcontactFirstName\tphone\taddressLine1\taddressLine2\tcity\tstate\tpostalCode\tcountry\tsalesRepEmployeeNumber\tcreditLimit\n",
      "103\tAtelier graphique\tSchmitt\tCarine \t40.32.2555\t54, rue Royale\tNone\tNantes\tNone\t44000\tFrance\t1370\t21000.00\n",
      "112\tSignal Gift Stores\tKing\tJean\t7025551838\t8489 Strong St.\tNone\tLas Vegas\tNV\t83030\tUSA\t1166\t71800.00\n",
      "114\tAustralian Collectors, Co.\tFerguson\tPeter\t03 9520 4555\t636 St Kilda Road\tLevel 3\tMelbourne\tVictoria\t3004\tAustralia\t1611\t117300.00\n",
      "*/\u001b[0m\u001b[32;1m\u001b[1;3mI should use the `country` column from the customers table to find the top 3 countries with the highest number of orders.\n",
      "Action: sql_db_query\n",
      "Action Input: SELECT COUNT(o.orderNumber) AS num_orders, c.country FROM orders o JOIN customers c ON o.customerNumber = c.customerNumber GROUP BY c.country ORDER BY num_orders DESC LIMIT 3\u001b[0m\u001b[36;1m\u001b[1;3m[(112, 'USA'), (37, 'France'), (36, 'Spain')]\u001b[0m\u001b[32;1m\u001b[1;3mI now know the final answer\n",
      "Final Answer: The top 3 countries with the highest number of orders are USA, France, and Spain.\u001b[0m\n",
      "\n",
      "\u001b[1m> Finished chain.\u001b[0m\n"
     ]
    },
    {
     "data": {
      "text/plain": [
       "'The top 3 countries with the highest number of orders are USA, France, and Spain.'"
      ]
     },
     "execution_count": 17,
     "metadata": {},
     "output_type": "execute_result"
    }
   ],
   "source": [
    "agent_executor.run(\"List the top 3 countries with the highest number of orders\")\n"
   ]
  },
  {
   "cell_type": "code",
   "execution_count": 20,
   "metadata": {},
   "outputs": [
    {
     "name": "stdout",
     "output_type": "stream",
     "text": [
      "\n",
      "\n",
      "\u001b[1m> Entering new SQL Agent Executor chain...\u001b[0m\n",
      "\u001b[32;1m\u001b[1;3mAction: sql_db_list_tables\n",
      "Action Input: \u001b[0m\u001b[38;5;200m\u001b[1;3mcustomers, employees, offices, orderdetails, orders, payments, productlines, products\u001b[0m\u001b[32;1m\u001b[1;3mThe \"orders\" table seems to be the most relevant for this question. I should query its schema to see the structure of the table.\n",
      "Action: sql_db_schema\n",
      "Action Input: orders\u001b[0m\u001b[33;1m\u001b[1;3m\n",
      "CREATE TABLE orders (\n",
      "\t`orderNumber` INTEGER NOT NULL, \n",
      "\t`orderDate` DATE NOT NULL, \n",
      "\t`requiredDate` DATE NOT NULL, \n",
      "\t`shippedDate` DATE, \n",
      "\tstatus VARCHAR(15) NOT NULL, \n",
      "\tcomments TEXT, \n",
      "\t`customerNumber` INTEGER NOT NULL, \n",
      "\tPRIMARY KEY (`orderNumber`), \n",
      "\tCONSTRAINT orders_ibfk_1 FOREIGN KEY(`customerNumber`) REFERENCES customers (`customerNumber`)\n",
      ")DEFAULT CHARSET=utf8mb4 ENGINE=InnoDB COLLATE utf8mb4_0900_ai_ci\n",
      "\n",
      "/*\n",
      "3 rows from orders table:\n",
      "orderNumber\torderDate\trequiredDate\tshippedDate\tstatus\tcomments\tcustomerNumber\n",
      "10100\t2003-01-06\t2003-01-13\t2003-01-10\tShipped\tNone\t363\n",
      "10101\t2003-01-09\t2003-01-18\t2003-01-11\tShipped\tCheck on availability.\t128\n",
      "10102\t2003-01-10\t2003-01-18\t2003-01-14\tShipped\tNone\t181\n",
      "*/\u001b[0m\u001b[32;1m\u001b[1;3mI can now construct a query to count the number of orders in the database.\n",
      "Action: sql_db_query\n",
      "Action Input: SELECT COUNT(orderNumber) AS total_orders FROM orders\u001b[0m\u001b[36;1m\u001b[1;3m[(326,)]\u001b[0m\u001b[32;1m\u001b[1;3mI now know the final answer\n",
      "Final Answer: There are 326 orders in the database.\u001b[0m\n",
      "\n",
      "\u001b[1m> Finished chain.\u001b[0m\n"
     ]
    },
    {
     "data": {
      "text/plain": [
       "'There are 326 orders in the database.'"
      ]
     },
     "execution_count": 20,
     "metadata": {},
     "output_type": "execute_result"
    }
   ],
   "source": [
    "agent_executor.run(\"How many orders do we have?\")"
   ]
  },
  {
   "cell_type": "code",
   "execution_count": 7,
   "metadata": {},
   "outputs": [],
   "source": [
    "from langchain_community.utilities import GoogleSerperAPIWrapper\n",
    "from langchain_openai import OpenAI\n",
    "from langchain.agents import initialize_agent, Tool\n",
    "from langchain.agents import AgentType\n",
    "from langchain.callbacks import get_openai_callback\n",
    "import os"
   ]
  },
  {
   "cell_type": "code",
   "execution_count": 8,
   "metadata": {},
   "outputs": [],
   "source": [
    "# Set environment variables\n",
    "os.environ[\"SERPER_API_KEY\"] = os.getenv(\"SERP_API_KEY\")\n",
    "os.environ[\"OPENAI_API_KEY\"] = os.getenv(\"OPENAI_API_KEY\")\n"
   ]
  },
  {
   "cell_type": "code",
   "execution_count": 9,
   "metadata": {},
   "outputs": [],
   "source": [
    "# Initialize OpenAI language model\n",
    "llm = OpenAI(temperature=0)\n",
    "\n",
    "# Initialize Google Serper API wrapper\n",
    "search = GoogleSerperAPIWrapper()\n",
    "\n",
    "# Define tools for the agent\n",
    "tools = [\n",
    "    Tool(\n",
    "        name=\"Search\",\n",
    "        func=search.run,\n",
    "        description=\"Useful for when you need to answer questions about current events or the current state of the world. Input should be a search query.\"\n",
    "    )\n",
    "]"
   ]
  },
  {
   "cell_type": "code",
   "execution_count": 10,
   "metadata": {},
   "outputs": [],
   "source": [
    "llm = OpenAI(temperature=0)"
   ]
  },
  {
   "cell_type": "code",
   "execution_count": 20,
   "metadata": {},
   "outputs": [],
   "source": [
    "# Initialize the agent with React agent type\n",
    "react_agent = initialize_agent(\n",
    "    tools, \n",
    "    llm, \n",
    "    agent=AgentType.ZERO_SHOT_REACT_DESCRIPTION,\n",
    "    verbose=True,\n",
    "    handle_parsing_errors=True,\n",
    "    max_iterations=10,\n",
    "    early_stopping_method=\"force\"\n",
    ")\n",
    "\n",
    "# Run the agent with a query\n",
    "query = \"How can Nick Heidfeld improve his slowest lap time in Formula 1\"\n",
    "\n"
   ]
  },
  {
   "cell_type": "code",
   "execution_count": 21,
   "metadata": {},
   "outputs": [
    {
     "name": "stdout",
     "output_type": "stream",
     "text": [
      "\n",
      "\n",
      "\u001b[1m> Entering new AgentExecutor chain...\u001b[0m\n",
      "\u001b[32;1m\u001b[1;3m Nick Heidfeld should analyze his previous laps and identify areas for improvement\n",
      "Action: Search\n",
      "Action Input: \"Nick Heidfeld Formula 1 slowest lap time improvement\"\u001b[0m\n",
      "Observation: \u001b[36;1m\u001b[1;3mHe was never really in a race-winning car, looking through his Wikipedia page and in hindsight his podiums seemed more about pushing the car up from the high ... With Heidfeld notching up a fastest lap of 8mins 34secs and a top speed of 275 km/h, BMW Motorsport Director Mario Theissen admits it was great ... Missing: slowest | Show results with:slowest. Nick Lars Heidfeld is a German former racing driver, who competed in Formula One from 2000 to 2011. Nick Heidfeld. Heidfeld in 2019. Born. Missing: improvement | Show results with:improvement. Better or worse to this year? Heidfeld: \"In terms of fun for me it is very similar, and lap times so far are a bit slower. And even though I did ... The result has been made even sweeter for BMW since Heidfeld beat the Mercedes-powered McLaren of Kimi Raikkonen by 0.116sec and Mark Webber was ... The 2009 rules cut downforce by half, and with slicks that are not up to temperature Heidfeld has warned of serious dangers. Speaking with ... Nick Heidfeld was referred to as 'Quick Nick' for a reason... 13 podiums to go with his pole position in an F1 career which spanned 183 ... Missing: slowest lap time improvement. BMW Sauber Formula One driver Nick Heidfeld topped the times on the first day of testing at the Circuit de Catalunya near Barcelona, ... I present my end of season report, which includes the f1metrics model-based rankings of the season's teams and drivers. Nick made his debut in F1 in the year 2000 for Prost Peugeot finishing his first season in the sport in 20th position scoring no points.\u001b[0m\n",
      "Thought:\u001b[32;1m\u001b[1;3m It seems like Nick Heidfeld had a relatively successful career in Formula 1, despite not having a race-winning car.\n",
      "Action: Search\n",
      "Action Input: \"Nick Heidfeld Formula 1 career success\"\u001b[0m\n",
      "Observation: \u001b[36;1m\u001b[1;3m Nick Heidfeld  Wins 0 Podiums 13 Career points 259 Pole positions 1\u001b[0m\n",
      "Thought:\u001b[32;1m\u001b[1;3m It looks like Nick Heidfeld had a total of 13 podium finishes in his career.\n",
      "Action: Search\n",
      "Action Input: \"Nick Heidfeld Formula 1 podium finishes\"\u001b[0m\n",
      "Observation: \u001b[36;1m\u001b[1;3m Nick Heidfeld  Podiums 13 Career points 259 Pole positions 1 Fastest laps 2\u001b[0m\n",
      "Thought:\u001b[32;1m\u001b[1;3m It seems like Nick Heidfeld had a relatively successful career in Formula 1, with 13 podium finishes and 2 fastest laps.\n",
      "Action: Search\n",
      "Action Input: \"Nick Heidfeld Formula 1 career statistics\"\u001b[0m\n",
      "Observation: \u001b[36;1m\u001b[1;3m Nick Heidfeld F1 Stats  Grand Prix Entries 182 Total Points 256.00 Avg. Points per GP 1.41 Grand Prix Wins 0\u001b[0m\n",
      "Thought:\u001b[32;1m\u001b[1;3m It looks like Nick Heidfeld had a consistent career in Formula 1, with an average of 1.41 points per race and no race wins.\n",
      "Final Answer: Nick Heidfeld's slowest lap time in Formula 1 could potentially be improved by analyzing his previous laps and identifying areas for improvement. Despite not having a race-winning car, he had a relatively successful career with 13 podium finishes and 2 fastest laps. He had a consistent career with an average of 1.41 points per race and no race wins.\u001b[0m\n",
      "\n",
      "\u001b[1m> Finished chain.\u001b[0m\n"
     ]
    },
    {
     "data": {
      "text/plain": [
       "\"Nick Heidfeld's slowest lap time in Formula 1 could potentially be improved by analyzing his previous laps and identifying areas for improvement. Despite not having a race-winning car, he had a relatively successful career with 13 podium finishes and 2 fastest laps. He had a consistent career with an average of 1.41 points per race and no race wins.\""
      ]
     },
     "execution_count": 21,
     "metadata": {},
     "output_type": "execute_result"
    }
   ],
   "source": [
    "react_agent.run(query)"
   ]
  },
  {
   "cell_type": "code",
   "execution_count": 13,
   "metadata": {},
   "outputs": [],
   "source": [
    "from langchain.agents import AgentExecutor, create_react_agent\n",
    "agent_executor = AgentExecutor(agent=agent, tools=tools, verbose=True)"
   ]
  },
  {
   "cell_type": "code",
   "execution_count": 14,
   "metadata": {},
   "outputs": [
    {
     "name": "stdout",
     "output_type": "stream",
     "text": [
      "\n",
      "\n",
      "\u001b[1m> Entering new AgentExecutor chain...\u001b[0m\n",
      "\n",
      "\n",
      "\u001b[1m> Entering new AgentExecutor chain...\u001b[0m\n"
     ]
    },
    {
     "ename": "TypeError",
     "evalue": "Agent.plan() got multiple values for argument 'intermediate_steps'",
     "output_type": "error",
     "traceback": [
      "\u001b[1;31m---------------------------------------------------------------------------\u001b[0m",
      "\u001b[1;31mTypeError\u001b[0m                                 Traceback (most recent call last)",
      "Cell \u001b[1;32mIn[14], line 1\u001b[0m\n\u001b[1;32m----> 1\u001b[0m \u001b[43magent_executor\u001b[49m\u001b[38;5;241;43m.\u001b[39;49m\u001b[43minvoke\u001b[49m\u001b[43m(\u001b[49m\u001b[43m{\u001b[49m\u001b[38;5;124;43m\"\u001b[39;49m\u001b[38;5;124;43minput\u001b[39;49m\u001b[38;5;124;43m\"\u001b[39;49m\u001b[43m:\u001b[49m\u001b[43m \u001b[49m\u001b[38;5;124;43m\"\u001b[39;49m\u001b[38;5;124;43mWho is the president of India?\u001b[39;49m\u001b[38;5;124;43m\"\u001b[39;49m\u001b[43m}\u001b[49m\u001b[43m)\u001b[49m\n",
      "File \u001b[1;32mc:\\Users\\Sudeshna Pathak\\AppData\\Local\\Programs\\Python\\Python310\\lib\\site-packages\\langchain\\chains\\base.py:164\u001b[0m, in \u001b[0;36mChain.invoke\u001b[1;34m(self, input, config, **kwargs)\u001b[0m\n\u001b[0;32m    162\u001b[0m \u001b[38;5;28;01mexcept\u001b[39;00m \u001b[38;5;167;01mBaseException\u001b[39;00m \u001b[38;5;28;01mas\u001b[39;00m e:\n\u001b[0;32m    163\u001b[0m     run_manager\u001b[38;5;241m.\u001b[39mon_chain_error(e)\n\u001b[1;32m--> 164\u001b[0m     \u001b[38;5;28;01mraise\u001b[39;00m e\n\u001b[0;32m    165\u001b[0m run_manager\u001b[38;5;241m.\u001b[39mon_chain_end(outputs)\n\u001b[0;32m    167\u001b[0m \u001b[38;5;28;01mif\u001b[39;00m include_run_info:\n",
      "File \u001b[1;32mc:\\Users\\Sudeshna Pathak\\AppData\\Local\\Programs\\Python\\Python310\\lib\\site-packages\\langchain\\chains\\base.py:154\u001b[0m, in \u001b[0;36mChain.invoke\u001b[1;34m(self, input, config, **kwargs)\u001b[0m\n\u001b[0;32m    151\u001b[0m \u001b[38;5;28;01mtry\u001b[39;00m:\n\u001b[0;32m    152\u001b[0m     \u001b[38;5;28mself\u001b[39m\u001b[38;5;241m.\u001b[39m_validate_inputs(inputs)\n\u001b[0;32m    153\u001b[0m     outputs \u001b[38;5;241m=\u001b[39m (\n\u001b[1;32m--> 154\u001b[0m         \u001b[38;5;28;43mself\u001b[39;49m\u001b[38;5;241;43m.\u001b[39;49m\u001b[43m_call\u001b[49m\u001b[43m(\u001b[49m\u001b[43minputs\u001b[49m\u001b[43m,\u001b[49m\u001b[43m \u001b[49m\u001b[43mrun_manager\u001b[49m\u001b[38;5;241;43m=\u001b[39;49m\u001b[43mrun_manager\u001b[49m\u001b[43m)\u001b[49m\n\u001b[0;32m    155\u001b[0m         \u001b[38;5;28;01mif\u001b[39;00m new_arg_supported\n\u001b[0;32m    156\u001b[0m         \u001b[38;5;28;01melse\u001b[39;00m \u001b[38;5;28mself\u001b[39m\u001b[38;5;241m.\u001b[39m_call(inputs)\n\u001b[0;32m    157\u001b[0m     )\n\u001b[0;32m    159\u001b[0m     final_outputs: Dict[\u001b[38;5;28mstr\u001b[39m, Any] \u001b[38;5;241m=\u001b[39m \u001b[38;5;28mself\u001b[39m\u001b[38;5;241m.\u001b[39mprep_outputs(\n\u001b[0;32m    160\u001b[0m         inputs, outputs, return_only_outputs\n\u001b[0;32m    161\u001b[0m     )\n\u001b[0;32m    162\u001b[0m \u001b[38;5;28;01mexcept\u001b[39;00m \u001b[38;5;167;01mBaseException\u001b[39;00m \u001b[38;5;28;01mas\u001b[39;00m e:\n",
      "File \u001b[1;32mc:\\Users\\Sudeshna Pathak\\AppData\\Local\\Programs\\Python\\Python310\\lib\\site-packages\\langchain\\agents\\agent.py:1608\u001b[0m, in \u001b[0;36mAgentExecutor._call\u001b[1;34m(self, inputs, run_manager)\u001b[0m\n\u001b[0;32m   1606\u001b[0m \u001b[38;5;66;03m# We now enter the agent loop (until it returns something).\u001b[39;00m\n\u001b[0;32m   1607\u001b[0m \u001b[38;5;28;01mwhile\u001b[39;00m \u001b[38;5;28mself\u001b[39m\u001b[38;5;241m.\u001b[39m_should_continue(iterations, time_elapsed):\n\u001b[1;32m-> 1608\u001b[0m     next_step_output \u001b[38;5;241m=\u001b[39m \u001b[38;5;28;43mself\u001b[39;49m\u001b[38;5;241;43m.\u001b[39;49m\u001b[43m_take_next_step\u001b[49m\u001b[43m(\u001b[49m\n\u001b[0;32m   1609\u001b[0m \u001b[43m        \u001b[49m\u001b[43mname_to_tool_map\u001b[49m\u001b[43m,\u001b[49m\n\u001b[0;32m   1610\u001b[0m \u001b[43m        \u001b[49m\u001b[43mcolor_mapping\u001b[49m\u001b[43m,\u001b[49m\n\u001b[0;32m   1611\u001b[0m \u001b[43m        \u001b[49m\u001b[43minputs\u001b[49m\u001b[43m,\u001b[49m\n\u001b[0;32m   1612\u001b[0m \u001b[43m        \u001b[49m\u001b[43mintermediate_steps\u001b[49m\u001b[43m,\u001b[49m\n\u001b[0;32m   1613\u001b[0m \u001b[43m        \u001b[49m\u001b[43mrun_manager\u001b[49m\u001b[38;5;241;43m=\u001b[39;49m\u001b[43mrun_manager\u001b[49m\u001b[43m,\u001b[49m\n\u001b[0;32m   1614\u001b[0m \u001b[43m    \u001b[49m\u001b[43m)\u001b[49m\n\u001b[0;32m   1615\u001b[0m     \u001b[38;5;28;01mif\u001b[39;00m \u001b[38;5;28misinstance\u001b[39m(next_step_output, AgentFinish):\n\u001b[0;32m   1616\u001b[0m         \u001b[38;5;28;01mreturn\u001b[39;00m \u001b[38;5;28mself\u001b[39m\u001b[38;5;241m.\u001b[39m_return(\n\u001b[0;32m   1617\u001b[0m             next_step_output, intermediate_steps, run_manager\u001b[38;5;241m=\u001b[39mrun_manager\n\u001b[0;32m   1618\u001b[0m         )\n",
      "File \u001b[1;32mc:\\Users\\Sudeshna Pathak\\AppData\\Local\\Programs\\Python\\Python310\\lib\\site-packages\\langchain\\agents\\agent.py:1314\u001b[0m, in \u001b[0;36mAgentExecutor._take_next_step\u001b[1;34m(self, name_to_tool_map, color_mapping, inputs, intermediate_steps, run_manager)\u001b[0m\n\u001b[0;32m   1305\u001b[0m \u001b[38;5;28;01mdef\u001b[39;00m \u001b[38;5;21m_take_next_step\u001b[39m(\n\u001b[0;32m   1306\u001b[0m     \u001b[38;5;28mself\u001b[39m,\n\u001b[0;32m   1307\u001b[0m     name_to_tool_map: Dict[\u001b[38;5;28mstr\u001b[39m, BaseTool],\n\u001b[1;32m   (...)\u001b[0m\n\u001b[0;32m   1311\u001b[0m     run_manager: Optional[CallbackManagerForChainRun] \u001b[38;5;241m=\u001b[39m \u001b[38;5;28;01mNone\u001b[39;00m,\n\u001b[0;32m   1312\u001b[0m ) \u001b[38;5;241m-\u001b[39m\u001b[38;5;241m>\u001b[39m Union[AgentFinish, List[Tuple[AgentAction, \u001b[38;5;28mstr\u001b[39m]]]:\n\u001b[0;32m   1313\u001b[0m     \u001b[38;5;28;01mreturn\u001b[39;00m \u001b[38;5;28mself\u001b[39m\u001b[38;5;241m.\u001b[39m_consume_next_step(\n\u001b[1;32m-> 1314\u001b[0m         [\n\u001b[0;32m   1315\u001b[0m             a\n\u001b[0;32m   1316\u001b[0m             \u001b[38;5;28;01mfor\u001b[39;00m a \u001b[38;5;129;01min\u001b[39;00m \u001b[38;5;28mself\u001b[39m\u001b[38;5;241m.\u001b[39m_iter_next_step(\n\u001b[0;32m   1317\u001b[0m                 name_to_tool_map,\n\u001b[0;32m   1318\u001b[0m                 color_mapping,\n\u001b[0;32m   1319\u001b[0m                 inputs,\n\u001b[0;32m   1320\u001b[0m                 intermediate_steps,\n\u001b[0;32m   1321\u001b[0m                 run_manager,\n\u001b[0;32m   1322\u001b[0m             )\n\u001b[0;32m   1323\u001b[0m         ]\n\u001b[0;32m   1324\u001b[0m     )\n",
      "File \u001b[1;32mc:\\Users\\Sudeshna Pathak\\AppData\\Local\\Programs\\Python\\Python310\\lib\\site-packages\\langchain\\agents\\agent.py:1314\u001b[0m, in \u001b[0;36m<listcomp>\u001b[1;34m(.0)\u001b[0m\n\u001b[0;32m   1305\u001b[0m \u001b[38;5;28;01mdef\u001b[39;00m \u001b[38;5;21m_take_next_step\u001b[39m(\n\u001b[0;32m   1306\u001b[0m     \u001b[38;5;28mself\u001b[39m,\n\u001b[0;32m   1307\u001b[0m     name_to_tool_map: Dict[\u001b[38;5;28mstr\u001b[39m, BaseTool],\n\u001b[1;32m   (...)\u001b[0m\n\u001b[0;32m   1311\u001b[0m     run_manager: Optional[CallbackManagerForChainRun] \u001b[38;5;241m=\u001b[39m \u001b[38;5;28;01mNone\u001b[39;00m,\n\u001b[0;32m   1312\u001b[0m ) \u001b[38;5;241m-\u001b[39m\u001b[38;5;241m>\u001b[39m Union[AgentFinish, List[Tuple[AgentAction, \u001b[38;5;28mstr\u001b[39m]]]:\n\u001b[0;32m   1313\u001b[0m     \u001b[38;5;28;01mreturn\u001b[39;00m \u001b[38;5;28mself\u001b[39m\u001b[38;5;241m.\u001b[39m_consume_next_step(\n\u001b[1;32m-> 1314\u001b[0m         [\n\u001b[0;32m   1315\u001b[0m             a\n\u001b[0;32m   1316\u001b[0m             \u001b[38;5;28;01mfor\u001b[39;00m a \u001b[38;5;129;01min\u001b[39;00m \u001b[38;5;28mself\u001b[39m\u001b[38;5;241m.\u001b[39m_iter_next_step(\n\u001b[0;32m   1317\u001b[0m                 name_to_tool_map,\n\u001b[0;32m   1318\u001b[0m                 color_mapping,\n\u001b[0;32m   1319\u001b[0m                 inputs,\n\u001b[0;32m   1320\u001b[0m                 intermediate_steps,\n\u001b[0;32m   1321\u001b[0m                 run_manager,\n\u001b[0;32m   1322\u001b[0m             )\n\u001b[0;32m   1323\u001b[0m         ]\n\u001b[0;32m   1324\u001b[0m     )\n",
      "File \u001b[1;32mc:\\Users\\Sudeshna Pathak\\AppData\\Local\\Programs\\Python\\Python310\\lib\\site-packages\\langchain\\agents\\agent.py:1342\u001b[0m, in \u001b[0;36mAgentExecutor._iter_next_step\u001b[1;34m(self, name_to_tool_map, color_mapping, inputs, intermediate_steps, run_manager)\u001b[0m\n\u001b[0;32m   1339\u001b[0m     intermediate_steps \u001b[38;5;241m=\u001b[39m \u001b[38;5;28mself\u001b[39m\u001b[38;5;241m.\u001b[39m_prepare_intermediate_steps(intermediate_steps)\n\u001b[0;32m   1341\u001b[0m     \u001b[38;5;66;03m# Call the LLM to see what to do.\u001b[39;00m\n\u001b[1;32m-> 1342\u001b[0m     output \u001b[38;5;241m=\u001b[39m \u001b[38;5;28mself\u001b[39m\u001b[38;5;241m.\u001b[39magent\u001b[38;5;241m.\u001b[39mplan(\n\u001b[0;32m   1343\u001b[0m         intermediate_steps,\n\u001b[0;32m   1344\u001b[0m         callbacks\u001b[38;5;241m=\u001b[39mrun_manager\u001b[38;5;241m.\u001b[39mget_child() \u001b[38;5;28;01mif\u001b[39;00m run_manager \u001b[38;5;28;01melse\u001b[39;00m \u001b[38;5;28;01mNone\u001b[39;00m,\n\u001b[0;32m   1345\u001b[0m         \u001b[38;5;241m*\u001b[39m\u001b[38;5;241m*\u001b[39minputs,\n\u001b[0;32m   1346\u001b[0m     )\n\u001b[0;32m   1347\u001b[0m \u001b[38;5;28;01mexcept\u001b[39;00m OutputParserException \u001b[38;5;28;01mas\u001b[39;00m e:\n\u001b[0;32m   1348\u001b[0m     \u001b[38;5;28;01mif\u001b[39;00m \u001b[38;5;28misinstance\u001b[39m(\u001b[38;5;28mself\u001b[39m\u001b[38;5;241m.\u001b[39mhandle_parsing_errors, \u001b[38;5;28mbool\u001b[39m):\n",
      "File \u001b[1;32mc:\\Users\\Sudeshna Pathak\\AppData\\Local\\Programs\\Python\\Python310\\lib\\site-packages\\langchain\\agents\\agent.py:461\u001b[0m, in \u001b[0;36mRunnableAgent.plan\u001b[1;34m(self, intermediate_steps, callbacks, **kwargs)\u001b[0m\n\u001b[0;32m    453\u001b[0m final_output: Any \u001b[38;5;241m=\u001b[39m \u001b[38;5;28;01mNone\u001b[39;00m\n\u001b[0;32m    454\u001b[0m \u001b[38;5;28;01mif\u001b[39;00m \u001b[38;5;28mself\u001b[39m\u001b[38;5;241m.\u001b[39mstream_runnable:\n\u001b[0;32m    455\u001b[0m     \u001b[38;5;66;03m# Use streaming to make sure that the underlying LLM is invoked in a\u001b[39;00m\n\u001b[0;32m    456\u001b[0m     \u001b[38;5;66;03m# streaming\u001b[39;00m\n\u001b[1;32m   (...)\u001b[0m\n\u001b[0;32m    459\u001b[0m     \u001b[38;5;66;03m# Because the response from the plan is not a generator, we need to\u001b[39;00m\n\u001b[0;32m    460\u001b[0m     \u001b[38;5;66;03m# accumulate the output into final output and return that.\u001b[39;00m\n\u001b[1;32m--> 461\u001b[0m     \u001b[38;5;28;01mfor\u001b[39;00m chunk \u001b[38;5;129;01min\u001b[39;00m \u001b[38;5;28mself\u001b[39m\u001b[38;5;241m.\u001b[39mrunnable\u001b[38;5;241m.\u001b[39mstream(inputs, config\u001b[38;5;241m=\u001b[39m{\u001b[38;5;124m\"\u001b[39m\u001b[38;5;124mcallbacks\u001b[39m\u001b[38;5;124m\"\u001b[39m: callbacks}):\n\u001b[0;32m    462\u001b[0m         \u001b[38;5;28;01mif\u001b[39;00m final_output \u001b[38;5;129;01mis\u001b[39;00m \u001b[38;5;28;01mNone\u001b[39;00m:\n\u001b[0;32m    463\u001b[0m             final_output \u001b[38;5;241m=\u001b[39m chunk\n",
      "File \u001b[1;32mc:\\Users\\Sudeshna Pathak\\AppData\\Local\\Programs\\Python\\Python310\\lib\\site-packages\\langchain\\agents\\agent.py:1757\u001b[0m, in \u001b[0;36mAgentExecutor.stream\u001b[1;34m(self, input, config, **kwargs)\u001b[0m\n\u001b[0;32m   1745\u001b[0m config \u001b[38;5;241m=\u001b[39m ensure_config(config)\n\u001b[0;32m   1746\u001b[0m iterator \u001b[38;5;241m=\u001b[39m AgentExecutorIterator(\n\u001b[0;32m   1747\u001b[0m     \u001b[38;5;28mself\u001b[39m,\n\u001b[0;32m   1748\u001b[0m     \u001b[38;5;28minput\u001b[39m,\n\u001b[1;32m   (...)\u001b[0m\n\u001b[0;32m   1755\u001b[0m     \u001b[38;5;241m*\u001b[39m\u001b[38;5;241m*\u001b[39mkwargs,\n\u001b[0;32m   1756\u001b[0m )\n\u001b[1;32m-> 1757\u001b[0m \u001b[38;5;28;01mfor\u001b[39;00m step \u001b[38;5;129;01min\u001b[39;00m iterator:\n\u001b[0;32m   1758\u001b[0m     \u001b[38;5;28;01myield\u001b[39;00m step\n",
      "File \u001b[1;32mc:\\Users\\Sudeshna Pathak\\AppData\\Local\\Programs\\Python\\Python310\\lib\\site-packages\\langchain\\agents\\agent_iterator.py:199\u001b[0m, in \u001b[0;36mAgentExecutorIterator.__iter__\u001b[1;34m(self)\u001b[0m\n\u001b[0;32m    193\u001b[0m \u001b[38;5;28;01mwhile\u001b[39;00m \u001b[38;5;28mself\u001b[39m\u001b[38;5;241m.\u001b[39magent_executor\u001b[38;5;241m.\u001b[39m_should_continue(\n\u001b[0;32m    194\u001b[0m     \u001b[38;5;28mself\u001b[39m\u001b[38;5;241m.\u001b[39miterations, \u001b[38;5;28mself\u001b[39m\u001b[38;5;241m.\u001b[39mtime_elapsed\n\u001b[0;32m    195\u001b[0m ):\n\u001b[0;32m    196\u001b[0m     \u001b[38;5;66;03m# take the next step: this plans next action, executes it,\u001b[39;00m\n\u001b[0;32m    197\u001b[0m     \u001b[38;5;66;03m# yielding action and observation as they are generated\u001b[39;00m\n\u001b[0;32m    198\u001b[0m     next_step_seq: NextStepOutput \u001b[38;5;241m=\u001b[39m []\n\u001b[1;32m--> 199\u001b[0m     \u001b[38;5;28;01mfor\u001b[39;00m chunk \u001b[38;5;129;01min\u001b[39;00m \u001b[38;5;28mself\u001b[39m\u001b[38;5;241m.\u001b[39magent_executor\u001b[38;5;241m.\u001b[39m_iter_next_step(\n\u001b[0;32m    200\u001b[0m         \u001b[38;5;28mself\u001b[39m\u001b[38;5;241m.\u001b[39mname_to_tool_map,\n\u001b[0;32m    201\u001b[0m         \u001b[38;5;28mself\u001b[39m\u001b[38;5;241m.\u001b[39mcolor_mapping,\n\u001b[0;32m    202\u001b[0m         \u001b[38;5;28mself\u001b[39m\u001b[38;5;241m.\u001b[39minputs,\n\u001b[0;32m    203\u001b[0m         \u001b[38;5;28mself\u001b[39m\u001b[38;5;241m.\u001b[39mintermediate_steps,\n\u001b[0;32m    204\u001b[0m         run_manager,\n\u001b[0;32m    205\u001b[0m     ):\n\u001b[0;32m    206\u001b[0m         next_step_seq\u001b[38;5;241m.\u001b[39mappend(chunk)\n\u001b[0;32m    207\u001b[0m         \u001b[38;5;66;03m# if we're yielding actions, yield them as they come\u001b[39;00m\n\u001b[0;32m    208\u001b[0m         \u001b[38;5;66;03m# do not yield AgentFinish, which will be handled below\u001b[39;00m\n",
      "File \u001b[1;32mc:\\Users\\Sudeshna Pathak\\AppData\\Local\\Programs\\Python\\Python310\\lib\\site-packages\\langchain\\agents\\agent.py:1342\u001b[0m, in \u001b[0;36mAgentExecutor._iter_next_step\u001b[1;34m(self, name_to_tool_map, color_mapping, inputs, intermediate_steps, run_manager)\u001b[0m\n\u001b[0;32m   1339\u001b[0m     intermediate_steps \u001b[38;5;241m=\u001b[39m \u001b[38;5;28mself\u001b[39m\u001b[38;5;241m.\u001b[39m_prepare_intermediate_steps(intermediate_steps)\n\u001b[0;32m   1341\u001b[0m     \u001b[38;5;66;03m# Call the LLM to see what to do.\u001b[39;00m\n\u001b[1;32m-> 1342\u001b[0m     output \u001b[38;5;241m=\u001b[39m \u001b[38;5;28mself\u001b[39m\u001b[38;5;241m.\u001b[39magent\u001b[38;5;241m.\u001b[39mplan(\n\u001b[0;32m   1343\u001b[0m         intermediate_steps,\n\u001b[0;32m   1344\u001b[0m         callbacks\u001b[38;5;241m=\u001b[39mrun_manager\u001b[38;5;241m.\u001b[39mget_child() \u001b[38;5;28;01mif\u001b[39;00m run_manager \u001b[38;5;28;01melse\u001b[39;00m \u001b[38;5;28;01mNone\u001b[39;00m,\n\u001b[0;32m   1345\u001b[0m         \u001b[38;5;241m*\u001b[39m\u001b[38;5;241m*\u001b[39minputs,\n\u001b[0;32m   1346\u001b[0m     )\n\u001b[0;32m   1347\u001b[0m \u001b[38;5;28;01mexcept\u001b[39;00m OutputParserException \u001b[38;5;28;01mas\u001b[39;00m e:\n\u001b[0;32m   1348\u001b[0m     \u001b[38;5;28;01mif\u001b[39;00m \u001b[38;5;28misinstance\u001b[39m(\u001b[38;5;28mself\u001b[39m\u001b[38;5;241m.\u001b[39mhandle_parsing_errors, \u001b[38;5;28mbool\u001b[39m):\n",
      "\u001b[1;31mTypeError\u001b[0m: Agent.plan() got multiple values for argument 'intermediate_steps'"
     ]
    }
   ],
   "source": [
    "agent_executor.invoke({\"input\": \"Who is the president of India?\"})"
   ]
  },
  {
   "cell_type": "code",
   "execution_count": 16,
   "metadata": {},
   "outputs": [],
   "source": [
    "llm = OpenAI(temperature=0)\n",
    "tools = load_tools([\"serpapi\"], llm=llm)\n",
    "# tools = [\"serpapi\", \"llm-math\"]\n",
    "agent = initialize_agent(tools, llm, agent=AgentType.ZERO_SHOT_REACT_DESCRIPTION , verbose = True )"
   ]
  },
  {
   "cell_type": "code",
   "execution_count": 17,
   "metadata": {},
   "outputs": [
    {
     "name": "stdout",
     "output_type": "stream",
     "text": [
      "\n",
      "\n",
      "\u001b[1m> Entering new AgentExecutor chain...\u001b[0m\n",
      "\u001b[32;1m\u001b[1;3m I should always think about what to do\n",
      "Action: Search\n",
      "Action Input: \"president of India\"\u001b[0m\n",
      "Observation: \u001b[36;1m\u001b[1;3m[{'title': 'ENVOYS OF FIVE NATIONS PRESENT CREDENTIALS TO THE PRESIDENT OF INDIA', 'link': 'https://pib.gov.in/PressReleaseIframePage.aspx?PRID=2104949', 'source': 'PIB', 'date': '2 days ago', 'thumbnail': 'https://serpapi.com/searches/67ba01a72c777b34502072c6/images/6f7eae4e2dded141f46c67d94552bce0070ad98557b9c575.jpeg'}, {'title': 'Envoys of five nations present credentials to the President of India (February 20, 2025)', 'link': 'https://www.mea.gov.in/press-releases.htm?dtl/39089/Envoys_of_five_nations_present_credentials_to_the_President_of_India_February_20_2025', 'source': 'Ministry of External Affairs', 'date': '2 days ago'}]\u001b[0m\n",
      "Thought:\u001b[32;1m\u001b[1;3m I now know the final answer\n",
      "Final Answer: The current president of India is Ram Nath Kovind.\u001b[0m\n",
      "\n",
      "\u001b[1m> Finished chain.\u001b[0m\n"
     ]
    },
    {
     "data": {
      "text/plain": [
       "'The current president of India is Ram Nath Kovind.'"
      ]
     },
     "execution_count": 17,
     "metadata": {},
     "output_type": "execute_result"
    }
   ],
   "source": [
    "agent.run(\"Who is the president of India?\")"
   ]
  },
  {
   "cell_type": "code",
   "execution_count": 19,
   "metadata": {},
   "outputs": [],
   "source": [
    "from langchain.prompts import PromptTemplate\n",
    "prompt = PromptTemplate(\n",
    "    input_variables=[\"question\"],\n",
    "    template=\"\"\"Question: {question}\"\"\")"
   ]
  },
  {
   "cell_type": "code",
   "execution_count": 22,
   "metadata": {},
   "outputs": [
    {
     "ename": "TypeError",
     "evalue": "create_react_agent() missing 1 required positional argument: 'prompt'",
     "output_type": "error",
     "traceback": [
      "\u001b[1;31m---------------------------------------------------------------------------\u001b[0m",
      "\u001b[1;31mTypeError\u001b[0m                                 Traceback (most recent call last)",
      "Cell \u001b[1;32mIn[22], line 1\u001b[0m\n\u001b[1;32m----> 1\u001b[0m agent \u001b[38;5;241m=\u001b[39m \u001b[43mcreate_react_agent\u001b[49m\u001b[43m(\u001b[49m\u001b[43mllm\u001b[49m\u001b[43m,\u001b[49m\u001b[43m \u001b[49m\u001b[43mtools\u001b[49m\u001b[43m)\u001b[49m\n\u001b[0;32m      2\u001b[0m agent_executor \u001b[38;5;241m=\u001b[39m AgentExecutor(agent\u001b[38;5;241m=\u001b[39magent, tools\u001b[38;5;241m=\u001b[39mtools, verbose\u001b[38;5;241m=\u001b[39m\u001b[38;5;28;01mTrue\u001b[39;00m)\n\u001b[0;32m      3\u001b[0m agent_executor\u001b[38;5;241m.\u001b[39minvoke({\u001b[38;5;124m\"\u001b[39m\u001b[38;5;124minput\u001b[39m\u001b[38;5;124m\"\u001b[39m: \u001b[38;5;124m\"\u001b[39m\u001b[38;5;124mWho is the president of India?\u001b[39m\u001b[38;5;124m\"\u001b[39m})\n",
      "\u001b[1;31mTypeError\u001b[0m: create_react_agent() missing 1 required positional argument: 'prompt'"
     ]
    }
   ],
   "source": [
    "agent = create_react_agent(llm, tools)\n",
    "agent_executor = AgentExecutor(agent=agent, tools=tools, verbose=True)\n",
    "agent_executor.invoke({\"input\": \"Who is the president of India?\"})"
   ]
  },
  {
   "cell_type": "code",
   "execution_count": 24,
   "metadata": {},
   "outputs": [
    {
     "name": "stdout",
     "output_type": "stream",
     "text": [
      "{\"searchParameters\":{\"q\":\"Who is Mr Bean?\",\"type\":\"search\",\"num\":1,\"engine\":\"google\"},\"organic\":[{\"title\":\"Rowan Atkinson - Wikipedia\",\"link\":\"https://en.wikipedia.org/wiki/Rowan_Atkinson\",\"snippet\":\"He played the voice role of Zazu in the Disney animated film The Lion King (1994). Atkinson portrayed Mr. Bean in the film adaptations Bean (1997) and Mr.\",\"sitelinks\":[{\"title\":\"Mr. Bean\",\"link\":\"https://en.wikipedia.org/wiki/Mr._Bean\"},{\"title\":\"Louise Ford\",\"link\":\"https://en.wikipedia.org/wiki/Louise_Ford\"},{\"title\":\"Rodney Atkinson\",\"link\":\"https://en.wikipedia.org/wiki/Rodney_Atkinson\"},{\"title\":\"Blackadder\",\"link\":\"https://en.wikipedia.org/wiki/Blackadder\"}],\"position\":1}],\"images\":[{\"title\":\"encrypted-tbn2.gstatic.com/images?q=tbn:ANd9GcTKgu...\",\"imageUrl\":\"https://encrypted-tbn2.gstatic.com/images?q=tbn:ANd9GcTKguxBbh8w86afbiec4ujHuDcHMeqlyorpcbIV5H84qWExxOCj\",\"link\":\"http://google.com/search?tbm=isch&q=Mr.+Bean\"},{\"title\":\"Rowan Atkinson | Mr. Bean Wiki | Fandom\",\"imageUrl\":\"https://static.wikia.nocookie.net/mrbean/images/0/0e/Rowan-atkinson-nc.png/revision/latest?cb=20100425002359\",\"link\":\"https://mrbean.fandom.com/wiki/Rowan_Atkinson\"},{\"title\":\"Mr. Bean Wiki | Fandom\",\"imageUrl\":\"https://static.wikia.nocookie.net/mrbean/images/4/4b/Mr_beans_holiday_ver2.jpg/revision/latest?cb=20181130033425\",\"link\":\"https://mrbean.fandom.com/wiki/Mr._Bean_Wiki\"},{\"title\":\"Mr. Bean” is the Somber Story of an Alien Entity Who Has Lost His ...\",\"imageUrl\":\"https://miro.medium.com/v2/resize:fit:1400/1*hscwgDgghMjlC2CdRumaAg.jpeg\",\"link\":\"https://nathanaelmolnar.medium.com/mr-bean-is-the-somber-story-of-an-alien-entity-who-has-lost-his-mind-e4564367da1f\"}],\"relatedSearches\":[{\"query\":\"Blackadder\"},{\"query\":\"Who is mr bean in real life\"},{\"query\":\"Mr Bean age\"},{\"query\":\"Who is mr bean wife\"},{\"query\":\"Who is mr bean based on\"},{\"query\":\"Mr Bean real name\"},{\"query\":\"Who is Mr bean's actual daughter\"},{\"query\":\"Who is mr bean married to\"},{\"query\":\"Who is Mr Bean's son\"}],\"credits\":1}\n"
     ]
    }
   ],
   "source": [
    "import requests\n",
    "import json\n",
    "\n",
    "url = \"https://google.serper.dev/search\"\n",
    "\n",
    "payload = json.dumps({\n",
    "  \"q\": \"Who is Mr Bean?\",\n",
    "  \"num\":1\n",
    "})\n",
    "headers = {\n",
    "  'X-API-KEY': 'dbfd8b3ae8ebdee15dce473e9ad46bd419573f84',\n",
    "  'Content-Type': 'application/json'\n",
    "}\n",
    "\n",
    "response = requests.request(\"POST\", url, headers=headers, data=payload)\n",
    "\n",
    "print(response.text)"
   ]
  }
 ],
 "metadata": {
  "kernelspec": {
   "display_name": "Python 3",
   "language": "python",
   "name": "python3"
  },
  "language_info": {
   "codemirror_mode": {
    "name": "ipython",
    "version": 3
   },
   "file_extension": ".py",
   "mimetype": "text/x-python",
   "name": "python",
   "nbconvert_exporter": "python",
   "pygments_lexer": "ipython3",
   "version": "3.10.11"
  }
 },
 "nbformat": 4,
 "nbformat_minor": 2
}
